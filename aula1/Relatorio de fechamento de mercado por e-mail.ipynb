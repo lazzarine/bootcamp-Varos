{
 "cells": [
  {
   "cell_type": "markdown",
   "id": "643480c4",
   "metadata": {},
   "source": [
    "# 1 importar os Modulos necessarios"
   ]
  },
  {
   "cell_type": "code",
   "execution_count": 29,
   "id": "d4ce5c37",
   "metadata": {},
   "outputs": [],
   "source": [
    "import pandas as pd\n",
    "import datetime\n",
    "import yfinance as yf\n",
    "from matplotlib import pyplot as plt\n",
    "import mplcyberpunk\n",
    "import win32com.client as win32"
   ]
  },
  {
   "cell_type": "markdown",
   "id": "b456c90c",
   "metadata": {},
   "source": [
    "# 2 Pegar dados no Yahoo Finance"
   ]
  },
  {
   "cell_type": "code",
   "execution_count": 2,
   "id": "e962b8d1",
   "metadata": {
    "scrolled": true
   },
   "outputs": [
    {
     "name": "stdout",
     "output_type": "stream",
     "text": [
      "[*********************100%***********************]  2 of 2 completed\n"
     ]
    },
    {
     "data": {
      "text/html": [
       "<div>\n",
       "<style scoped>\n",
       "    .dataframe tbody tr th:only-of-type {\n",
       "        vertical-align: middle;\n",
       "    }\n",
       "\n",
       "    .dataframe tbody tr th {\n",
       "        vertical-align: top;\n",
       "    }\n",
       "\n",
       "    .dataframe thead tr th {\n",
       "        text-align: left;\n",
       "    }\n",
       "\n",
       "    .dataframe thead tr:last-of-type th {\n",
       "        text-align: right;\n",
       "    }\n",
       "</style>\n",
       "<table border=\"1\" class=\"dataframe\">\n",
       "  <thead>\n",
       "    <tr>\n",
       "      <th></th>\n",
       "      <th colspan=\"2\" halign=\"left\">Adj Close</th>\n",
       "      <th colspan=\"2\" halign=\"left\">Close</th>\n",
       "      <th colspan=\"2\" halign=\"left\">High</th>\n",
       "      <th colspan=\"2\" halign=\"left\">Low</th>\n",
       "      <th colspan=\"2\" halign=\"left\">Open</th>\n",
       "      <th colspan=\"2\" halign=\"left\">Volume</th>\n",
       "    </tr>\n",
       "    <tr>\n",
       "      <th></th>\n",
       "      <th>BRL=X</th>\n",
       "      <th>^BVSP</th>\n",
       "      <th>BRL=X</th>\n",
       "      <th>^BVSP</th>\n",
       "      <th>BRL=X</th>\n",
       "      <th>^BVSP</th>\n",
       "      <th>BRL=X</th>\n",
       "      <th>^BVSP</th>\n",
       "      <th>BRL=X</th>\n",
       "      <th>^BVSP</th>\n",
       "      <th>BRL=X</th>\n",
       "      <th>^BVSP</th>\n",
       "    </tr>\n",
       "    <tr>\n",
       "      <th>Date</th>\n",
       "      <th></th>\n",
       "      <th></th>\n",
       "      <th></th>\n",
       "      <th></th>\n",
       "      <th></th>\n",
       "      <th></th>\n",
       "      <th></th>\n",
       "      <th></th>\n",
       "      <th></th>\n",
       "      <th></th>\n",
       "      <th></th>\n",
       "      <th></th>\n",
       "    </tr>\n",
       "  </thead>\n",
       "  <tbody>\n",
       "    <tr>\n",
       "      <th>2022-02-07</th>\n",
       "      <td>5.3269</td>\n",
       "      <td>111996.0</td>\n",
       "      <td>5.3269</td>\n",
       "      <td>111996.0</td>\n",
       "      <td>5.3430</td>\n",
       "      <td>112517.0</td>\n",
       "      <td>5.276800</td>\n",
       "      <td>111490.0</td>\n",
       "      <td>5.326200</td>\n",
       "      <td>112247.0</td>\n",
       "      <td>0</td>\n",
       "      <td>10672800.0</td>\n",
       "    </tr>\n",
       "    <tr>\n",
       "      <th>2022-02-08</th>\n",
       "      <td>5.2626</td>\n",
       "      <td>112234.0</td>\n",
       "      <td>5.2626</td>\n",
       "      <td>112234.0</td>\n",
       "      <td>5.2849</td>\n",
       "      <td>112251.0</td>\n",
       "      <td>5.251000</td>\n",
       "      <td>110943.0</td>\n",
       "      <td>5.262800</td>\n",
       "      <td>111995.0</td>\n",
       "      <td>0</td>\n",
       "      <td>10157500.0</td>\n",
       "    </tr>\n",
       "    <tr>\n",
       "      <th>2022-02-09</th>\n",
       "      <td>5.2584</td>\n",
       "      <td>112461.0</td>\n",
       "      <td>5.2584</td>\n",
       "      <td>112461.0</td>\n",
       "      <td>5.2880</td>\n",
       "      <td>113163.0</td>\n",
       "      <td>5.232774</td>\n",
       "      <td>111710.0</td>\n",
       "      <td>5.256489</td>\n",
       "      <td>112233.0</td>\n",
       "      <td>0</td>\n",
       "      <td>13794500.0</td>\n",
       "    </tr>\n",
       "    <tr>\n",
       "      <th>2022-02-10</th>\n",
       "      <td>5.2345</td>\n",
       "      <td>113359.0</td>\n",
       "      <td>5.2345</td>\n",
       "      <td>113359.0</td>\n",
       "      <td>5.2446</td>\n",
       "      <td>113812.0</td>\n",
       "      <td>5.170000</td>\n",
       "      <td>112163.0</td>\n",
       "      <td>5.231429</td>\n",
       "      <td>112462.0</td>\n",
       "      <td>0</td>\n",
       "      <td>13267900.0</td>\n",
       "    </tr>\n",
       "    <tr>\n",
       "      <th>2022-02-11</th>\n",
       "      <td>5.2487</td>\n",
       "      <td>113572.0</td>\n",
       "      <td>5.2487</td>\n",
       "      <td>113572.0</td>\n",
       "      <td>5.2512</td>\n",
       "      <td>114899.0</td>\n",
       "      <td>5.182800</td>\n",
       "      <td>113128.0</td>\n",
       "      <td>5.248600</td>\n",
       "      <td>113368.0</td>\n",
       "      <td>0</td>\n",
       "      <td>18602800.0</td>\n",
       "    </tr>\n",
       "    <tr>\n",
       "      <th>...</th>\n",
       "      <td>...</td>\n",
       "      <td>...</td>\n",
       "      <td>...</td>\n",
       "      <td>...</td>\n",
       "      <td>...</td>\n",
       "      <td>...</td>\n",
       "      <td>...</td>\n",
       "      <td>...</td>\n",
       "      <td>...</td>\n",
       "      <td>...</td>\n",
       "      <td>...</td>\n",
       "      <td>...</td>\n",
       "    </tr>\n",
       "    <tr>\n",
       "      <th>2023-01-30</th>\n",
       "      <td>5.1072</td>\n",
       "      <td>111888.0</td>\n",
       "      <td>5.1072</td>\n",
       "      <td>111888.0</td>\n",
       "      <td>5.1224</td>\n",
       "      <td>112920.0</td>\n",
       "      <td>5.081096</td>\n",
       "      <td>111824.0</td>\n",
       "      <td>5.107200</td>\n",
       "      <td>112319.0</td>\n",
       "      <td>0</td>\n",
       "      <td>11272700.0</td>\n",
       "    </tr>\n",
       "    <tr>\n",
       "      <th>2023-01-31</th>\n",
       "      <td>5.1149</td>\n",
       "      <td>113532.0</td>\n",
       "      <td>5.1149</td>\n",
       "      <td>113532.0</td>\n",
       "      <td>5.1337</td>\n",
       "      <td>113581.0</td>\n",
       "      <td>5.077500</td>\n",
       "      <td>112145.0</td>\n",
       "      <td>5.114900</td>\n",
       "      <td>112273.0</td>\n",
       "      <td>0</td>\n",
       "      <td>12900200.0</td>\n",
       "    </tr>\n",
       "    <tr>\n",
       "      <th>2023-02-01</th>\n",
       "      <td>5.0722</td>\n",
       "      <td>112303.0</td>\n",
       "      <td>5.0722</td>\n",
       "      <td>112303.0</td>\n",
       "      <td>5.0868</td>\n",
       "      <td>113598.0</td>\n",
       "      <td>5.047900</td>\n",
       "      <td>110729.0</td>\n",
       "      <td>5.072200</td>\n",
       "      <td>113430.0</td>\n",
       "      <td>0</td>\n",
       "      <td>17821500.0</td>\n",
       "    </tr>\n",
       "    <tr>\n",
       "      <th>2023-02-02</th>\n",
       "      <td>5.0535</td>\n",
       "      <td>109935.0</td>\n",
       "      <td>5.0535</td>\n",
       "      <td>109935.0</td>\n",
       "      <td>5.0545</td>\n",
       "      <td>112943.0</td>\n",
       "      <td>4.941700</td>\n",
       "      <td>109747.0</td>\n",
       "      <td>5.053500</td>\n",
       "      <td>112072.0</td>\n",
       "      <td>0</td>\n",
       "      <td>15241800.0</td>\n",
       "    </tr>\n",
       "    <tr>\n",
       "      <th>2023-02-03</th>\n",
       "      <td>5.0492</td>\n",
       "      <td>108490.0</td>\n",
       "      <td>5.0492</td>\n",
       "      <td>108490.0</td>\n",
       "      <td>5.1347</td>\n",
       "      <td>110570.0</td>\n",
       "      <td>5.046758</td>\n",
       "      <td>108185.0</td>\n",
       "      <td>5.049200</td>\n",
       "      <td>110141.0</td>\n",
       "      <td>0</td>\n",
       "      <td>13235300.0</td>\n",
       "    </tr>\n",
       "  </tbody>\n",
       "</table>\n",
       "<p>260 rows × 12 columns</p>\n",
       "</div>"
      ],
      "text/plain": [
       "           Adj Close             Close              High                 Low  \\\n",
       "               BRL=X     ^BVSP   BRL=X     ^BVSP   BRL=X     ^BVSP     BRL=X   \n",
       "Date                                                                           \n",
       "2022-02-07    5.3269  111996.0  5.3269  111996.0  5.3430  112517.0  5.276800   \n",
       "2022-02-08    5.2626  112234.0  5.2626  112234.0  5.2849  112251.0  5.251000   \n",
       "2022-02-09    5.2584  112461.0  5.2584  112461.0  5.2880  113163.0  5.232774   \n",
       "2022-02-10    5.2345  113359.0  5.2345  113359.0  5.2446  113812.0  5.170000   \n",
       "2022-02-11    5.2487  113572.0  5.2487  113572.0  5.2512  114899.0  5.182800   \n",
       "...              ...       ...     ...       ...     ...       ...       ...   \n",
       "2023-01-30    5.1072  111888.0  5.1072  111888.0  5.1224  112920.0  5.081096   \n",
       "2023-01-31    5.1149  113532.0  5.1149  113532.0  5.1337  113581.0  5.077500   \n",
       "2023-02-01    5.0722  112303.0  5.0722  112303.0  5.0868  113598.0  5.047900   \n",
       "2023-02-02    5.0535  109935.0  5.0535  109935.0  5.0545  112943.0  4.941700   \n",
       "2023-02-03    5.0492  108490.0  5.0492  108490.0  5.1347  110570.0  5.046758   \n",
       "\n",
       "                          Open           Volume              \n",
       "               ^BVSP     BRL=X     ^BVSP  BRL=X       ^BVSP  \n",
       "Date                                                         \n",
       "2022-02-07  111490.0  5.326200  112247.0      0  10672800.0  \n",
       "2022-02-08  110943.0  5.262800  111995.0      0  10157500.0  \n",
       "2022-02-09  111710.0  5.256489  112233.0      0  13794500.0  \n",
       "2022-02-10  112163.0  5.231429  112462.0      0  13267900.0  \n",
       "2022-02-11  113128.0  5.248600  113368.0      0  18602800.0  \n",
       "...              ...       ...       ...    ...         ...  \n",
       "2023-01-30  111824.0  5.107200  112319.0      0  11272700.0  \n",
       "2023-01-31  112145.0  5.114900  112273.0      0  12900200.0  \n",
       "2023-02-01  110729.0  5.072200  113430.0      0  17821500.0  \n",
       "2023-02-02  109747.0  5.053500  112072.0      0  15241800.0  \n",
       "2023-02-03  108185.0  5.049200  110141.0      0  13235300.0  \n",
       "\n",
       "[260 rows x 12 columns]"
      ]
     },
     "metadata": {},
     "output_type": "display_data"
    }
   ],
   "source": [
    "cd_negocio=[\"^BVSP\",\"BRL=X\"]\n",
    "#lista contendo codigos da bovespa e do dolar\n",
    "\n",
    "hoje=datetime.datetime.now()\n",
    "#instancia a data de hoje utilizando o modulo datetime + o sub-modulo datetia + a função now()\n",
    "\n",
    "um_ano_atras = hoje - datetime.timedelta(days=365)\n",
    "#instancia a data de hoje utilizando o modulo datetime + a função timedelta() passando como parametro days e quantidade de dia\n",
    "\n",
    "dd_mercado = yf.download(cd_negocio,um_ano_atras,hoje)\n",
    "#Executa carregamento dos dados utilizando o modulo yFinance + metodo download, passando como parametro os codigos das empresas, a data inicial e a data final\n",
    "display(dd_mercado)\n",
    "#usado dentro do Jupyter para devolver uma tabela com as informações\n",
    "#dentro do datafram(display) nos temos colunas e Indices, nesse caso o indice é o Date"
   ]
  },
  {
   "cell_type": "markdown",
   "id": "b93007c8",
   "metadata": {},
   "source": [
    "# 3.1 Manipulando os Dados - Seleção e Exclusão"
   ]
  },
  {
   "cell_type": "code",
   "execution_count": 3,
   "id": "538d8b51",
   "metadata": {},
   "outputs": [],
   "source": [
    "dd_fechamento =dd_mercado['Adj Close']\n",
    "#retorna a coluna de fechamento de valor, do dataframe Dados de Mercado\n",
    "dd_fechamento.columns = ['dolar','ibovespa']\n",
    "#altera o nome das colunas\n",
    "\n",
    "dd_fechamento = dd_fechamento.dropna()\n",
    "#remove todas as linhas que contenham a sigla Na(informação nula)\n",
    "\n",
    "#dd_fechamento.head(50)\n",
    "#buscamos apenas os 50 primeiros resultados\n",
    "\n"
   ]
  },
  {
   "cell_type": "markdown",
   "id": "0f26a6e3",
   "metadata": {},
   "source": [
    "# 3.2 Manipulando dados - Criando Tabelas"
   ]
  },
  {
   "cell_type": "code",
   "execution_count": 4,
   "id": "920eeae4",
   "metadata": {},
   "outputs": [
    {
     "data": {
      "text/html": [
       "<div>\n",
       "<style scoped>\n",
       "    .dataframe tbody tr th:only-of-type {\n",
       "        vertical-align: middle;\n",
       "    }\n",
       "\n",
       "    .dataframe tbody tr th {\n",
       "        vertical-align: top;\n",
       "    }\n",
       "\n",
       "    .dataframe thead th {\n",
       "        text-align: right;\n",
       "    }\n",
       "</style>\n",
       "<table border=\"1\" class=\"dataframe\">\n",
       "  <thead>\n",
       "    <tr style=\"text-align: right;\">\n",
       "      <th></th>\n",
       "      <th>dolar</th>\n",
       "      <th>ibovespa</th>\n",
       "    </tr>\n",
       "    <tr>\n",
       "      <th>Date</th>\n",
       "      <th></th>\n",
       "      <th></th>\n",
       "    </tr>\n",
       "  </thead>\n",
       "  <tbody>\n",
       "    <tr>\n",
       "      <th>2022-12-31</th>\n",
       "      <td>5.2668</td>\n",
       "      <td>110031.0</td>\n",
       "    </tr>\n",
       "    <tr>\n",
       "      <th>2023-12-31</th>\n",
       "      <td>5.0492</td>\n",
       "      <td>108490.0</td>\n",
       "    </tr>\n",
       "  </tbody>\n",
       "</table>\n",
       "</div>"
      ],
      "text/plain": [
       "             dolar  ibovespa\n",
       "Date                        \n",
       "2022-12-31  5.2668  110031.0\n",
       "2023-12-31  5.0492  108490.0"
      ]
     },
     "execution_count": 4,
     "metadata": {},
     "output_type": "execute_result"
    }
   ],
   "source": [
    "dd_anuais = dd_fechamento.resample(\"Y\").last()\n",
    "#instancia os dados de fechamento anual, utilizando o sub-modulo resample do yfinance passando o parametro \"Y\" para filtrar os valores anuais(tambem podemos usar \"M\" para mes,\"Q\"para trimestres)\n",
    "#em conjunto com o metodo last()\n",
    "dd_mensais = dd_fechamento.resample(\"M\").last()\n",
    "dd_anuais"
   ]
  },
  {
   "cell_type": "markdown",
   "id": "6d23f6bb",
   "metadata": {},
   "source": [
    "# 4 calcular Fechamento do dia, retorno no ano e retorno no mes dos ativos"
   ]
  },
  {
   "cell_type": "code",
   "execution_count": 5,
   "id": "b7d09e0a",
   "metadata": {},
   "outputs": [
    {
     "data": {
      "text/html": [
       "<div>\n",
       "<style scoped>\n",
       "    .dataframe tbody tr th:only-of-type {\n",
       "        vertical-align: middle;\n",
       "    }\n",
       "\n",
       "    .dataframe tbody tr th {\n",
       "        vertical-align: top;\n",
       "    }\n",
       "\n",
       "    .dataframe thead th {\n",
       "        text-align: right;\n",
       "    }\n",
       "</style>\n",
       "<table border=\"1\" class=\"dataframe\">\n",
       "  <thead>\n",
       "    <tr style=\"text-align: right;\">\n",
       "      <th></th>\n",
       "      <th>dolar</th>\n",
       "      <th>ibovespa</th>\n",
       "    </tr>\n",
       "    <tr>\n",
       "      <th>Date</th>\n",
       "      <th></th>\n",
       "      <th></th>\n",
       "    </tr>\n",
       "  </thead>\n",
       "  <tbody>\n",
       "    <tr>\n",
       "      <th>2023-12-31</th>\n",
       "      <td>-0.041315</td>\n",
       "      <td>-0.014005</td>\n",
       "    </tr>\n",
       "  </tbody>\n",
       "</table>\n",
       "</div>"
      ],
      "text/plain": [
       "               dolar  ibovespa\n",
       "Date                          \n",
       "2023-12-31 -0.041315 -0.014005"
      ]
     },
     "execution_count": 5,
     "metadata": {},
     "output_type": "execute_result"
    }
   ],
   "source": [
    "ret_anual = dd_anuais.pct_change().dropna()\n",
    "# calcula a rentabilidade anual e remove os NA\n",
    "ret_anual"
   ]
  },
  {
   "cell_type": "code",
   "execution_count": 16,
   "id": "52fe5e26",
   "metadata": {},
   "outputs": [
    {
     "data": {
      "text/html": [
       "<div>\n",
       "<style scoped>\n",
       "    .dataframe tbody tr th:only-of-type {\n",
       "        vertical-align: middle;\n",
       "    }\n",
       "\n",
       "    .dataframe tbody tr th {\n",
       "        vertical-align: top;\n",
       "    }\n",
       "\n",
       "    .dataframe thead th {\n",
       "        text-align: right;\n",
       "    }\n",
       "</style>\n",
       "<table border=\"1\" class=\"dataframe\">\n",
       "  <thead>\n",
       "    <tr style=\"text-align: right;\">\n",
       "      <th></th>\n",
       "      <th>dolar</th>\n",
       "      <th>ibovespa</th>\n",
       "    </tr>\n",
       "    <tr>\n",
       "      <th>Date</th>\n",
       "      <th></th>\n",
       "      <th></th>\n",
       "    </tr>\n",
       "  </thead>\n",
       "  <tbody>\n",
       "    <tr>\n",
       "      <th>2022-03-31</th>\n",
       "      <td>-0.068818</td>\n",
       "      <td>0.060605</td>\n",
       "    </tr>\n",
       "    <tr>\n",
       "      <th>2022-04-30</th>\n",
       "      <td>0.035243</td>\n",
       "      <td>-0.101026</td>\n",
       "    </tr>\n",
       "    <tr>\n",
       "      <th>2022-05-31</th>\n",
       "      <td>-0.037547</td>\n",
       "      <td>0.032213</td>\n",
       "    </tr>\n",
       "    <tr>\n",
       "      <th>2022-06-30</th>\n",
       "      <td>0.090165</td>\n",
       "      <td>-0.115033</td>\n",
       "    </tr>\n",
       "    <tr>\n",
       "      <th>2022-07-31</th>\n",
       "      <td>0.000347</td>\n",
       "      <td>0.046914</td>\n",
       "    </tr>\n",
       "    <tr>\n",
       "      <th>2022-08-31</th>\n",
       "      <td>-0.011731</td>\n",
       "      <td>0.061629</td>\n",
       "    </tr>\n",
       "    <tr>\n",
       "      <th>2022-09-30</th>\n",
       "      <td>0.053554</td>\n",
       "      <td>0.004693</td>\n",
       "    </tr>\n",
       "    <tr>\n",
       "      <th>2022-10-31</th>\n",
       "      <td>-0.019959</td>\n",
       "      <td>0.054527</td>\n",
       "    </tr>\n",
       "    <tr>\n",
       "      <th>2022-11-30</th>\n",
       "      <td>-0.003839</td>\n",
       "      <td>-0.030602</td>\n",
       "    </tr>\n",
       "    <tr>\n",
       "      <th>2022-12-31</th>\n",
       "      <td>-0.000266</td>\n",
       "      <td>-0.021825</td>\n",
       "    </tr>\n",
       "    <tr>\n",
       "      <th>2023-01-31</th>\n",
       "      <td>-0.028841</td>\n",
       "      <td>0.031818</td>\n",
       "    </tr>\n",
       "    <tr>\n",
       "      <th>2023-02-28</th>\n",
       "      <td>-0.012845</td>\n",
       "      <td>-0.044410</td>\n",
       "    </tr>\n",
       "  </tbody>\n",
       "</table>\n",
       "</div>"
      ],
      "text/plain": [
       "               dolar  ibovespa\n",
       "Date                          \n",
       "2022-03-31 -0.068818  0.060605\n",
       "2022-04-30  0.035243 -0.101026\n",
       "2022-05-31 -0.037547  0.032213\n",
       "2022-06-30  0.090165 -0.115033\n",
       "2022-07-31  0.000347  0.046914\n",
       "2022-08-31 -0.011731  0.061629\n",
       "2022-09-30  0.053554  0.004693\n",
       "2022-10-31 -0.019959  0.054527\n",
       "2022-11-30 -0.003839 -0.030602\n",
       "2022-12-31 -0.000266 -0.021825\n",
       "2023-01-31 -0.028841  0.031818\n",
       "2023-02-28 -0.012845 -0.044410"
      ]
     },
     "execution_count": 16,
     "metadata": {},
     "output_type": "execute_result"
    }
   ],
   "source": [
    "ret_mensal = dd_mensais.pct_change().dropna()\n",
    "# calcula a rentabilidade mensal e remove os NA\n",
    "ret_mensal"
   ]
  },
  {
   "cell_type": "code",
   "execution_count": 12,
   "id": "dcb0a7c4",
   "metadata": {},
   "outputs": [
    {
     "data": {
      "text/html": [
       "<div>\n",
       "<style scoped>\n",
       "    .dataframe tbody tr th:only-of-type {\n",
       "        vertical-align: middle;\n",
       "    }\n",
       "\n",
       "    .dataframe tbody tr th {\n",
       "        vertical-align: top;\n",
       "    }\n",
       "\n",
       "    .dataframe thead th {\n",
       "        text-align: right;\n",
       "    }\n",
       "</style>\n",
       "<table border=\"1\" class=\"dataframe\">\n",
       "  <thead>\n",
       "    <tr style=\"text-align: right;\">\n",
       "      <th></th>\n",
       "      <th>dolar</th>\n",
       "      <th>ibovespa</th>\n",
       "    </tr>\n",
       "    <tr>\n",
       "      <th>Date</th>\n",
       "      <th></th>\n",
       "      <th></th>\n",
       "    </tr>\n",
       "  </thead>\n",
       "  <tbody>\n",
       "    <tr>\n",
       "      <th>2022-02-08</th>\n",
       "      <td>-0.012071</td>\n",
       "      <td>0.002125</td>\n",
       "    </tr>\n",
       "    <tr>\n",
       "      <th>2022-02-09</th>\n",
       "      <td>-0.000798</td>\n",
       "      <td>0.002023</td>\n",
       "    </tr>\n",
       "    <tr>\n",
       "      <th>2022-02-10</th>\n",
       "      <td>-0.004545</td>\n",
       "      <td>0.007985</td>\n",
       "    </tr>\n",
       "    <tr>\n",
       "      <th>2022-02-11</th>\n",
       "      <td>0.002713</td>\n",
       "      <td>0.001879</td>\n",
       "    </tr>\n",
       "    <tr>\n",
       "      <th>2022-02-14</th>\n",
       "      <td>0.000239</td>\n",
       "      <td>0.002069</td>\n",
       "    </tr>\n",
       "    <tr>\n",
       "      <th>...</th>\n",
       "      <td>...</td>\n",
       "      <td>...</td>\n",
       "    </tr>\n",
       "    <tr>\n",
       "      <th>2023-01-30</th>\n",
       "      <td>0.008781</td>\n",
       "      <td>-0.005458</td>\n",
       "    </tr>\n",
       "    <tr>\n",
       "      <th>2023-01-31</th>\n",
       "      <td>0.001508</td>\n",
       "      <td>0.014693</td>\n",
       "    </tr>\n",
       "    <tr>\n",
       "      <th>2023-02-01</th>\n",
       "      <td>-0.008348</td>\n",
       "      <td>-0.010825</td>\n",
       "    </tr>\n",
       "    <tr>\n",
       "      <th>2023-02-02</th>\n",
       "      <td>-0.003687</td>\n",
       "      <td>-0.021086</td>\n",
       "    </tr>\n",
       "    <tr>\n",
       "      <th>2023-02-03</th>\n",
       "      <td>-0.000851</td>\n",
       "      <td>-0.013144</td>\n",
       "    </tr>\n",
       "  </tbody>\n",
       "</table>\n",
       "<p>249 rows × 2 columns</p>\n",
       "</div>"
      ],
      "text/plain": [
       "               dolar  ibovespa\n",
       "Date                          \n",
       "2022-02-08 -0.012071  0.002125\n",
       "2022-02-09 -0.000798  0.002023\n",
       "2022-02-10 -0.004545  0.007985\n",
       "2022-02-11  0.002713  0.001879\n",
       "2022-02-14  0.000239  0.002069\n",
       "...              ...       ...\n",
       "2023-01-30  0.008781 -0.005458\n",
       "2023-01-31  0.001508  0.014693\n",
       "2023-02-01 -0.008348 -0.010825\n",
       "2023-02-02 -0.003687 -0.021086\n",
       "2023-02-03 -0.000851 -0.013144\n",
       "\n",
       "[249 rows x 2 columns]"
      ]
     },
     "execution_count": 12,
     "metadata": {},
     "output_type": "execute_result"
    }
   ],
   "source": [
    "ret_diario = dd_fechamento.pct_change().dropna()\n",
    "# calcula a rentabilidade diario e remove os NA\n",
    "ret_diario"
   ]
  },
  {
   "cell_type": "markdown",
   "id": "c3c5a631",
   "metadata": {},
   "source": [
    "# 5 - Localizar o fechamento do dia anterios, retorno no mês e retorno no ano"
   ]
  },
  {
   "cell_type": "code",
   "execution_count": 14,
   "id": "5dcc767a",
   "metadata": {},
   "outputs": [],
   "source": [
    "ret_jan_26_2022=ret_diario.loc['2022-02-08','dolar']\n",
    "#busca o valor do dolar no dia 26 utilizando localizador por nome \n",
    "ret_dolar_diario=ret_diario.iloc[1,0]\n",
    "#linha a esquerda, e colune a direita\n",
    "#busca o valor do dolar no dia 26 utilizando localizador matriz\n",
    "ret_dolar_diario=ret_diario.iloc[-1,0]\n",
    "#pega o resultado da ultima linha\n",
    "#retorna o ultimo valor do dolar utilizando localizador matriz\n"
   ]
  },
  {
   "cell_type": "code",
   "execution_count": 63,
   "id": "43a9b2c6",
   "metadata": {},
   "outputs": [],
   "source": [
    "ret_ibov_diario = ret_diario.iloc[-1,1]"
   ]
  },
  {
   "cell_type": "code",
   "execution_count": 62,
   "id": "8dc43638",
   "metadata": {},
   "outputs": [
    {
     "data": {
      "text/plain": [
       "-0.044410386498960674"
      ]
     },
     "execution_count": 62,
     "metadata": {},
     "output_type": "execute_result"
    }
   ],
   "source": [
    "ret_dolar_mensal = ret_mensal.iloc[-1,0]\n",
    "ret_ibov_mensal = ret_mensal.iloc[-1,1]\n",
    "ret_ibov_mensal"
   ]
  },
  {
   "cell_type": "code",
   "execution_count": 21,
   "id": "1da9ae66",
   "metadata": {},
   "outputs": [],
   "source": [
    "ret_ibov_anual = ret_anual.iloc[-1,1]\n",
    "ret_dolar_anual = ret_anual.iloc[-1,0]"
   ]
  },
  {
   "cell_type": "code",
   "execution_count": 68,
   "id": "d4e0b8f4",
   "metadata": {},
   "outputs": [
    {
     "data": {
      "text/plain": [
       "-1.28"
      ]
     },
     "execution_count": 68,
     "metadata": {},
     "output_type": "execute_result"
    }
   ],
   "source": [
    "ret_dolar_mensal = round((ret_mensal.iloc[-1,0]*100),2)\n",
    "#round arredonda o resultado multiplicando o valor por 100 e resumindo a duas casas decimais\n",
    "ret_ibov_mensal = round((ret_mensal.iloc[-1,1]*100),2)\n",
    "\n",
    "ret_ibov_anual = round((ret_anual.iloc[-1,1]*100),2)\n",
    "ret_dolar_anual = round((ret_anual.iloc[-1,0]*100),2)\n",
    "\n",
    "ret_ibov_diario = round((ret_diario.iloc[-1,0]*100),2)\n",
    "ret_dolar_diario = round((ret_diario.iloc[-1,1]*100),2)\n",
    "\n",
    "\n",
    "\n",
    "ret_dolar_mensal"
   ]
  },
  {
   "cell_type": "code",
   "execution_count": 61,
   "id": "3d3b5bc6",
   "metadata": {},
   "outputs": [
    {
     "data": {
      "text/plain": [
       "-1.4"
      ]
     },
     "execution_count": 61,
     "metadata": {},
     "output_type": "execute_result"
    }
   ],
   "source": [
    "ret_ibov_anual"
   ]
  },
  {
   "cell_type": "markdown",
   "id": "157652aa",
   "metadata": {},
   "source": [
    "# 6 - Fazer os graficos de perfomance do ultimo ano dos ativos"
   ]
  },
  {
   "cell_type": "code",
   "execution_count": 35,
   "id": "c676e0ed",
   "metadata": {},
   "outputs": [
    {
     "data": {
      "image/png": "[encoded data removed]",
      "text/plain": [
       "<Figure size 640x480 with 1 Axes>"
      ]
     },
     "metadata": {},
     "output_type": "display_data"
    }
   ],
   "source": [
    "plt.style.use(\"cyberpunk\")\n",
    "#chama o matplotlib usando o modelo de grafico cyberpunk \n",
    "\n",
    "dd_fechamento.plot(y=\"ibovespa\", use_index=True, legend=False)\n",
    "#passa o ibovespa como eixo Y e o indice(data) como eixo X, elimina as legendas\n",
    "plt.title(\"Ibovespa\")\n",
    "#adiciona titulo ao grafico\n",
    "\n",
    "plt.savefig('iboves.png', dpi = 300)\n",
    "#Salva a imagem do grafico na mesma pasta em que o codigo esta sendo executado, com qualidade de 300dpi\n",
    "\n",
    "plt.show()\n",
    "#exibe o grafico, apartir dos dados informados"
   ]
  },
  {
   "cell_type": "code",
   "execution_count": 51,
   "id": "22fef47e",
   "metadata": {},
   "outputs": [
    {
     "data": {
      "image/png": "[encoded data removed]",
      "text/plain": [
       "<Figure size 640x480 with 1 Axes>"
      ]
     },
     "metadata": {},
     "output_type": "display_data"
    }
   ],
   "source": [
    "plt.style.use(\"cyberpunk\")\n",
    "\n",
    "dd_fechamento.plot(y=\"dolar\", use_index=True, legend=False)\n",
    "plt.savefig(\"dolar.png\",dpi=300)\n",
    "\n",
    "plt.show()"
   ]
  },
  {
   "cell_type": "markdown",
   "id": "90cce522",
   "metadata": {},
   "source": [
    "# 7 - Enviar e-mail"
   ]
  },
  {
   "cell_type": "code",
   "execution_count": 76,
   "id": "64927572",
   "metadata": {},
   "outputs": [],
   "source": [
    "outlook = win32.Dispatch(\"outlook.application\")\n",
    "#inicia a aplicação do outlook em segundo plano\n",
    "\n",
    "email = outlook.Createitem(0)\n",
    "#abre uma instancia de e-mail"
   ]
  },
  {
   "cell_type": "code",
   "execution_count": 77,
   "id": "eee94222",
   "metadata": {},
   "outputs": [],
   "source": [
    "email.To = \"wessalves95@gmail.com\"\n",
    "#destinatarios para envio\n",
    "email.subject=\"Relatorio diario\"\n",
    "#assundo do e-mail\n",
    "email.body= f'''Prezado diretor, segue o relatorio diario:\n",
    "\n",
    "Bolsa:\n",
    "\n",
    "No ano o ibovespa esta tendo uma rentabilidade de {ret_ibov_anual}%,\n",
    "enquanto no mês a rentabilidade é de {ret_ibov_mensal}%,\n",
    "\n",
    "No ultimo dia util, o fechamento do ibovespa foi de {ret_ibov_diario}%.\n",
    "\n",
    "Dolar:\n",
    "\n",
    "No ano o dolar esta tendo uma rentabilidade de {ret_dolar_anual}%,\n",
    "enquanto no mês a rentabilidade é de {ret_dolar_mensal}%,\n",
    "\n",
    "No ultimo dia util, o fechamento do dolar foi de {ret_dolar_diario}%.'''\n",
    "#corpo do e-mail, utilizando  no corpo do e-mail as variaveis contendo os resultados, atraves do f-strings\n",
    "anexo_ibovespa = r'C:\\BootCamp- Varos\\aula1\\iboves'\n",
    "#anexa um arquivo de imagem\n",
    "anexo_dolar = r'C:\\BootCamp- Varos\\aula1\\dolar'\n",
    "#///"
   ]
  },
  {
   "cell_type": "raw",
   "id": "05f237e2",
   "metadata": {},
   "source": []
  },
  {
   "cell_type": "code",
   "execution_count": 69,
   "id": "fd861ad8",
   "metadata": {},
   "outputs": [
    {
     "name": "stdout",
     "output_type": "stream",
     "text": [
      "Prezado diretor, segue o relatorio diario:\n",
      "\n",
      "Bolsa:\n",
      "\n",
      "No ano o ibovespa esta tendo uma rentabilidade de -1.4%,\n",
      "enquanto no mês a rentabilidade é de -4.44%,\n",
      "\n",
      "No ultimo dia util, o fechamento do ibovespa foi de -0.09%.\n",
      "\n",
      "Dolar:\n",
      "\n",
      "No ano o ibovespa esta tendo uma rentabilidade de -4.13%,\n",
      "enquanto no mês a rentabilidade é de -1.28%,\n",
      "\n",
      "No ultimo dia util, o fechamento do dolar foi de -1.31%.\n"
     ]
    }
   ],
   "source": [
    "#teste da exibição do corpo do e-mail\n",
    "print(f'''Prezado diretor, segue o relatorio diario:\n",
    "\n",
    "Bolsa:\n",
    "\n",
    "No ano o ibovespa esta tendo uma rentabilidade de {ret_ibov_anual}%,\n",
    "enquanto no mês a rentabilidade é de {ret_ibov_mensal}%,\n",
    "\n",
    "No ultimo dia util, o fechamento do ibovespa foi de {ret_ibov_diario}%.\n",
    "\n",
    "Dolar:\n",
    "\n",
    "No ano o dolar esta tendo uma rentabilidade de {ret_dolar_anual}%,\n",
    "enquanto no mês a rentabilidade é de {ret_dolar_mensal}%,\n",
    "\n",
    "No ultimo dia util, o fechamento do dolar foi de {ret_dolar_diario}%.''')"
   ]
  },
  {
   "cell_type": "code",
   "execution_count": null,
   "id": "7dd4a175",
   "metadata": {},
   "outputs": [],
   "source": []
  }
 ],
 "metadata": {
  "kernelspec": {
   "display_name": "Python 3 (ipykernel)",
   "language": "python",
   "name": "python3"
  },
  "language_info": {
   "codemirror_mode": {
    "name": "ipython",
    "version": 3
   },
   "file_extension": ".py",
   "mimetype": "text/x-python",
   "name": "python",
   "nbconvert_exporter": "python",
   "pygments_lexer": "ipython3",
   "version": "3.9.13"
  }
 },
 "nbformat": 4,
 "nbformat_minor": 5
}
